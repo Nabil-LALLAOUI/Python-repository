{
  "cells": [
    {
      "cell_type": "markdown",
      "metadata": {},
      "source": [
        "EXERCICE : Quiz"
      ]
    },
    {
      "cell_type": "code",
      "execution_count": 1,
      "metadata": {
        "colab": {
          "base_uri": "https://localhost:8080/"
        },
        "id": "5WyXnzkJxlt0",
        "outputId": "0288c973-49c6-4855-be12-fee141f87a47"
      },
      "outputs": [
        {
          "name": "stdout",
          "output_type": "stream",
          "text": [
            "Combien de fois la France a-t-elle remporté la Coupe du monde de football ?2\n",
            "Bonne réponse!\n",
            "Quand Apple a-t-elle été fondée ?1976\n",
            "Bonne réponse!\n",
            "Qui a fondé SpaceX ?nabil\n",
            "Mauvaise réponse. Il vous reste 2 chances.\n",
            "Qui a fondé SpaceX ?elon musk\n",
            "Bonne réponse!\n"
          ]
        }
      ],
      "source": [
        "questions = [\n",
        "    \"Combien de fois la France a-t-elle remporté la Coupe du monde de football ?\",\n",
        "    \"Quand Apple a-t-elle été fondée ?\",\n",
        "    \"Qui a fondé SpaceX ?\"\n",
        "]\n",
        "reponses = [\n",
        "    \"2\",\n",
        "    \"1976\",\n",
        "    \"Elon Musk\"\n",
        "]\n",
        "\n",
        "\n",
        "def poser_question(question, reponse, chances_restantes = 3):\n",
        "    while chances_restantes > 0:\n",
        "        reponse_utilisateur = input(question)\n",
        "        if reponse_utilisateur.lower() == reponse.lower():\n",
        "            print(\"Bonne réponse!\")\n",
        "            return chances_restantes\n",
        "        else:\n",
        "            chances_restantes -= 1\n",
        "            print(f\"Mauvaise réponse. Il vous reste {chances_restantes} chances.\")\n",
        "    return chances_restantes\n",
        "\n",
        "def executer_quiz():\n",
        "    chances_restantes = 3\n",
        "    for i in range(len(questions)):\n",
        "        chances_restantes = poser_question(questions[i], reponses[i], chances_restantes)\n",
        "\n",
        "\n",
        "executer_quiz()"
      ]
    }
  ],
  "metadata": {
    "colab": {
      "provenance": []
    },
    "kernelspec": {
      "display_name": "Python 3",
      "name": "python3"
    },
    "language_info": {
      "name": "python",
      "version": "3.11.4"
    }
  },
  "nbformat": 4,
  "nbformat_minor": 0
}
