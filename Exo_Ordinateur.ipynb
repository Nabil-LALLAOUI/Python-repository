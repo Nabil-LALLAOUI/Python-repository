{
  "cells": [
    {
      "cell_type": "code",
      "execution_count": 1,
      "metadata": {
        "colab": {
          "base_uri": "https://localhost:8080/"
        },
        "id": "4_AtG-v-ZTP-",
        "outputId": "a75a7cde-9832-4fad-e522-64a7881f605b"
      },
      "outputs": [
        {
          "name": "stdout",
          "output_type": "stream",
          "text": [
            "Here's my initial list: [None, 2, 4, 6, None]\n",
            "Here is my list after imputer: [4.0, 2, 4, 6, 4.0]\n"
          ]
        }
      ],
      "source": [
        "class Imputer: # Création de la class Imputer\n",
        "    def __init__(self, list):\n",
        "        self.list = list\n",
        "\n",
        "    def avg(self):\n",
        "\n",
        "        # étape 1 : initialisation de 'non_missing_values'\n",
        "        non_missing_values = []\n",
        "        for item in self.list:\n",
        "            if item is not None:\n",
        "                non_missing_values.append(item)\n",
        "\n",
        "        # étape 2 : calcul de la moyennz\n",
        "        if non_missing_values:\n",
        "            average = sum(non_missing_values) / len(non_missing_values)\n",
        "\n",
        "            # étape 3 : imputation des valeurs manquantes s'il y en a\n",
        "            for i in range(len(self.list)):\n",
        "                if self.list[i] is None:\n",
        "                    self.list[i] = average\n",
        "        else:\n",
        "            # Étape 4 : traitement s'il n'y a pas de valeurs manquantes\n",
        "            print(\"Il n'y a pas de valeur manquante.\")\n",
        "\n",
        "\n",
        "my_list = [None, 2, 4, 6, None]\n",
        "imputer = Imputer(my_list)\n",
        "\n",
        "print(f\"Here's my initial list: {imputer.list}\")\n",
        "imputer.avg()\n",
        "print(f\"Here is my list after imputer: {imputer.list}\")"
      ]
    },
    {
      "cell_type": "code",
      "execution_count": null,
      "metadata": {},
      "outputs": [],
      "source": []
    }
  ],
  "metadata": {
    "colab": {
      "provenance": []
    },
    "kernelspec": {
      "display_name": "Python 3",
      "name": "python3"
    },
    "language_info": {
      "codemirror_mode": {
        "name": "ipython",
        "version": 3
      },
      "file_extension": ".py",
      "mimetype": "text/x-python",
      "name": "python",
      "nbconvert_exporter": "python",
      "pygments_lexer": "ipython3",
      "version": "3.11.4"
    }
  },
  "nbformat": 4,
  "nbformat_minor": 0
}
